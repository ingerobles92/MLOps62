{
 "cells": [
  {
   "cell_type": "code",
   "execution_count": null,
   "id": "8acb4d6a",
   "metadata": {},
   "outputs": [],
   "source": [
    "# Setting up the libraries\n",
    "\n",
    "import mlflow\n",
    "import os\n",
    "from mlflow.models import infer_signature\n",
    "import pandas as pd\n",
    "from sklearn import datasets\n",
    "from sklearn.model_selection import train_test_split\n",
    "from sklearn.linear_model import LogisticRegression\n",
    "from sklearn.metrics import accuracy_score"
   ]
  },
  {
   "cell_type": "code",
   "execution_count": null,
   "id": "610ba5ae",
   "metadata": {},
   "outputs": [],
   "source": [
    "# Getting the data\n",
    "\n",
    "X, y = datasets.load_iris(return_X_y=True)\n",
    "\n",
    "X_train, X_test, y_train, y_test = train_test_split(\n",
    "    X, y, test_size=0.2, random_state=42\n",
    ")"
   ]
  },
  {
   "cell_type": "code",
   "execution_count": null,
   "id": "1216a010",
   "metadata": {},
   "outputs": [],
   "source": [
    "# Adjusting the hyperparameters\n",
    "\n",
    "params = {\n",
    "    \"solver\": \"lbfgs\",\n",
    "    \"max_iter\": 1000,\n",
    "    \"random_state\": 8888,\n",
    "}"
   ]
  },
  {
   "cell_type": "code",
   "execution_count": null,
   "id": "1fe53244",
   "metadata": {},
   "outputs": [],
   "source": [
    "# Initializing MLFlow Server\n",
    "\n",
    "mlflow.set_tracking_uri(\"file://\" + os.path.abspath(\"mlruns\"))\n",
    "mlflow.set_experiment(\"MLflow Quickstart\")"
   ]
  },
  {
   "cell_type": "code",
   "execution_count": null,
   "id": "e4e2d5f4",
   "metadata": {},
   "outputs": [],
   "source": [
    "# Creating the experiment\n",
    "\n",
    "with mlflow.start_run():\n",
    "\n",
    "    lr = LogisticRegression(**params)\n",
    "    lr.fit(X_train, y_train)\n",
    "    y_pred = lr.predict(X_test)\n",
    "    accuracy = accuracy_score(y_test, y_pred)\n",
    "\n",
    "    mlflow.log_params(params)\n",
    "    mlflow.log_metric(\"accuracy\", accuracy)\n",
    "\n",
    "    signature = infer_signature(X_train, lr.predict(X_train))\n",
    "\n",
    "    model_info = mlflow.sklearn.log_model(\n",
    "        sk_model=lr,\n",
    "        name=\"iris_model\",\n",
    "        signature=signature,\n",
    "        input_example=X_train,\n",
    "        registered_model_name=\"tracking-quickstart\",\n",
    "    )\n",
    "\n",
    "    mlflow.set_logged_model_tags(\n",
    "        model_info.model_id,\n",
    "        {\"Training Info\": \"Basic LR model for iris data\"}\n",
    "    )\n"
   ]
  },
  {
   "cell_type": "code",
   "execution_count": null,
   "id": "c78fc0f3",
   "metadata": {},
   "outputs": [],
   "source": [
    "# Visualizing the UI\n",
    "# Once the server is ready, open this url in your browser http://127.0.0.1:5000\n",
    "\n",
    "!mlflow ui --backend-store-uri mlruns --port 5000"
   ]
  }
 ],
 "metadata": {
  "kernelspec": {
   "display_name": "venv",
   "language": "python",
   "name": "python3"
  },
  "language_info": {
   "codemirror_mode": {
    "name": "ipython",
    "version": 3
   },
   "file_extension": ".py",
   "mimetype": "text/x-python",
   "name": "python",
   "nbconvert_exporter": "python",
   "pygments_lexer": "ipython3",
   "version": "3.11.9"
  }
 },
 "nbformat": 4,
 "nbformat_minor": 5
}
