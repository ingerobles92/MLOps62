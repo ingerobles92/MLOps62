{
 "cells": [
  {
   "cell_type": "code",
   "execution_count": 1,
   "id": "06fb075a-2aaf-4a20-a79d-4b10903a8466",
   "metadata": {},
   "outputs": [
    {
     "ename": "OutputNotFoundError",
     "evalue": "Unable to find DVC file with output 'data/raw/work_absenteeism_modified.csv'",
     "output_type": "error",
     "traceback": [
      "\u001b[31m---------------------------------------------------------------------------\u001b[39m",
      "\u001b[31mKeyError\u001b[39m                                  Traceback (most recent call last)",
      "\u001b[36mFile \u001b[39m\u001b[32m/usr/local/lib/python3.13/site-packages/dvc/repo/__init__.py:400\u001b[39m, in \u001b[36mRepo.get_data_index_entry\u001b[39m\u001b[34m(self, path, workspace)\u001b[39m\n\u001b[32m    399\u001b[39m \u001b[38;5;28;01mtry\u001b[39;00m:\n\u001b[32m--> \u001b[39m\u001b[32m400\u001b[39m     \u001b[38;5;28;01mreturn\u001b[39;00m index, \u001b[43mindex\u001b[49m\u001b[43m[\u001b[49m\u001b[43mkey\u001b[49m\u001b[43m]\u001b[49m\n\u001b[32m    401\u001b[39m \u001b[38;5;28;01mexcept\u001b[39;00m \u001b[38;5;167;01mKeyError\u001b[39;00m \u001b[38;5;28;01mas\u001b[39;00m exc:\n",
      "\u001b[36mFile \u001b[39m\u001b[32m/usr/local/lib/python3.13/site-packages/dvc_data/index/index.py:682\u001b[39m, in \u001b[36mDataIndex.__getitem__\u001b[39m\u001b[34m(self, key)\u001b[39m\n\u001b[32m    680\u001b[39m     \u001b[38;5;28mself\u001b[39m._load(dir_key, dir_entry)\n\u001b[32m--> \u001b[39m\u001b[32m682\u001b[39m \u001b[38;5;28;01mreturn\u001b[39;00m \u001b[38;5;28;43mself\u001b[39;49m\u001b[43m.\u001b[49m\u001b[43m_trie\u001b[49m\u001b[43m[\u001b[49m\u001b[43mkey\u001b[49m\u001b[43m]\u001b[49m\n",
      "\u001b[36mFile \u001b[39m\u001b[32m/usr/local/lib/python3.13/site-packages/sqltrie/serialized.py:58\u001b[39m, in \u001b[36mSerializedTrie.__getitem__\u001b[39m\u001b[34m(self, key)\u001b[39m\n\u001b[32m     57\u001b[39m \u001b[38;5;28;01mdef\u001b[39;00m\u001b[38;5;250m \u001b[39m\u001b[34m__getitem__\u001b[39m(\u001b[38;5;28mself\u001b[39m, key):\n\u001b[32m---> \u001b[39m\u001b[32m58\u001b[39m     raw = \u001b[38;5;28;43mself\u001b[39;49m\u001b[43m.\u001b[49m\u001b[43m_trie\u001b[49m\u001b[43m[\u001b[49m\u001b[43mkey\u001b[49m\u001b[43m]\u001b[49m\n\u001b[32m     59\u001b[39m     \u001b[38;5;28;01mreturn\u001b[39;00m \u001b[38;5;28mself\u001b[39m._load(key, raw)\n",
      "\u001b[36mFile \u001b[39m\u001b[32m/usr/local/lib/python3.13/site-packages/sqltrie/sqlite/sqlite.py:266\u001b[39m, in \u001b[36mSQLiteTrie.__getitem__\u001b[39m\u001b[34m(self, key)\u001b[39m\n\u001b[32m    265\u001b[39m \u001b[38;5;28;01mdef\u001b[39;00m\u001b[38;5;250m \u001b[39m\u001b[34m__getitem__\u001b[39m(\u001b[38;5;28mself\u001b[39m, key):\n\u001b[32m--> \u001b[39m\u001b[32m266\u001b[39m     row = \u001b[38;5;28;43mself\u001b[39;49m\u001b[43m.\u001b[49m\u001b[43m_get_node\u001b[49m\u001b[43m(\u001b[49m\u001b[43mkey\u001b[49m\u001b[43m)\u001b[49m\n\u001b[32m    267\u001b[39m     has_value = row[\u001b[33m\"\u001b[39m\u001b[33mhas_value\u001b[39m\u001b[33m\"\u001b[39m]\n",
      "\u001b[36mFile \u001b[39m\u001b[32m/usr/local/lib/python3.13/site-packages/sqltrie/sqlite/sqlite.py:204\u001b[39m, in \u001b[36mSQLiteTrie._get_node\u001b[39m\u001b[34m(self, key)\u001b[39m\n\u001b[32m    203\u001b[39m \u001b[38;5;28;01mif\u001b[39;00m \u001b[38;5;28mlen\u001b[39m(rows) != \u001b[38;5;28mlen\u001b[39m(key):\n\u001b[32m--> \u001b[39m\u001b[32m204\u001b[39m     \u001b[38;5;28;01mraise\u001b[39;00m \u001b[38;5;167;01mKeyError\u001b[39;00m(key)\n\u001b[32m    206\u001b[39m \u001b[38;5;28;01mreturn\u001b[39;00m rows[-\u001b[32m1\u001b[39m]\n",
      "\u001b[31mKeyError\u001b[39m: ('notebooks', 'EDA', 'data', 'raw', 'work_absenteeism_modified.csv')",
      "\nThe above exception was the direct cause of the following exception:\n",
      "\u001b[31mOutputNotFoundError\u001b[39m                       Traceback (most recent call last)",
      "\u001b[36mCell\u001b[39m\u001b[36m \u001b[39m\u001b[32mIn[1]\u001b[39m\u001b[32m, line 7\u001b[39m\n\u001b[32m      4\u001b[39m PATH = \u001b[33m\"\u001b[39m\u001b[33mdata/raw/work_absenteeism_modified.csv\u001b[39m\u001b[33m\"\u001b[39m\n\u001b[32m      5\u001b[39m REPO = \u001b[33m\"\u001b[39m\u001b[33m/work\u001b[39m\u001b[33m\"\u001b[39m\n\u001b[32m----> \u001b[39m\u001b[32m7\u001b[39m \u001b[38;5;28mprint\u001b[39m(\u001b[33m\"\u001b[39m\u001b[33mURL DVC:\u001b[39m\u001b[33m\"\u001b[39m, \u001b[43mget_url\u001b[49m\u001b[43m(\u001b[49m\u001b[43mPATH\u001b[49m\u001b[43m,\u001b[49m\u001b[43m \u001b[49m\u001b[43mrepo\u001b[49m\u001b[43m=\u001b[49m\u001b[43mREPO\u001b[49m\u001b[43m)\u001b[49m)  \u001b[38;5;66;03m# ahora sí debe imprimir s3://.../<hash>\u001b[39;00m\n\u001b[32m      9\u001b[39m \u001b[38;5;28;01mwith\u001b[39;00m dvc_open(PATH, repo=REPO, mode=\u001b[33m\"\u001b[39m\u001b[33mrb\u001b[39m\u001b[33m\"\u001b[39m) \u001b[38;5;28;01mas\u001b[39;00m f:\n\u001b[32m     10\u001b[39m     df = pd.read_csv(f)\n",
      "\u001b[36mFile \u001b[39m\u001b[32m/usr/local/lib/python3.13/site-packages/dvc/api/data.py:84\u001b[39m, in \u001b[36mget_url\u001b[39m\u001b[34m(path, repo, rev, remote, config, remote_config)\u001b[39m\n\u001b[32m     73\u001b[39m \u001b[38;5;28;01mfrom\u001b[39;00m\u001b[38;5;250m \u001b[39m\u001b[34;01mdvc_data\u001b[39;00m\u001b[34;01m.\u001b[39;00m\u001b[34;01mindex\u001b[39;00m\u001b[38;5;250m \u001b[39m\u001b[38;5;28;01mimport\u001b[39;00m StorageKeyError\n\u001b[32m     75\u001b[39m \u001b[38;5;28;01mwith\u001b[39;00m Repo.open(\n\u001b[32m     76\u001b[39m     repo,\n\u001b[32m     77\u001b[39m     rev=rev,\n\u001b[32m   (...)\u001b[39m\u001b[32m     82\u001b[39m     remote_config=remote_config,\n\u001b[32m     83\u001b[39m ) \u001b[38;5;28;01mas\u001b[39;00m _repo:\n\u001b[32m---> \u001b[39m\u001b[32m84\u001b[39m     index, entry = \u001b[43m_repo\u001b[49m\u001b[43m.\u001b[49m\u001b[43mget_data_index_entry\u001b[49m\u001b[43m(\u001b[49m\u001b[43mpath\u001b[49m\u001b[43m)\u001b[49m\n\u001b[32m     85\u001b[39m     \u001b[38;5;28;01mwith\u001b[39;00m reraise(\n\u001b[32m     86\u001b[39m         (StorageKeyError, \u001b[38;5;167;01mValueError\u001b[39;00m),\n\u001b[32m     87\u001b[39m         NoRemoteError(\u001b[33mf\u001b[39m\u001b[33m\"\u001b[39m\u001b[33mno remote specified in \u001b[39m\u001b[38;5;132;01m{\u001b[39;00m_repo\u001b[38;5;132;01m}\u001b[39;00m\u001b[33m\"\u001b[39m),\n\u001b[32m     88\u001b[39m     ):\n\u001b[32m     89\u001b[39m         remote_fs, remote_path = index.storage_map.get_remote(entry)\n",
      "\u001b[36mFile \u001b[39m\u001b[32m/usr/local/lib/python3.13/site-packages/dvc/repo/__init__.py:402\u001b[39m, in \u001b[36mRepo.get_data_index_entry\u001b[39m\u001b[34m(self, path, workspace)\u001b[39m\n\u001b[32m    400\u001b[39m     \u001b[38;5;28;01mreturn\u001b[39;00m index, index[key]\n\u001b[32m    401\u001b[39m \u001b[38;5;28;01mexcept\u001b[39;00m \u001b[38;5;167;01mKeyError\u001b[39;00m \u001b[38;5;28;01mas\u001b[39;00m exc:\n\u001b[32m--> \u001b[39m\u001b[32m402\u001b[39m     \u001b[38;5;28;01mraise\u001b[39;00m OutputNotFoundError(path, \u001b[38;5;28mself\u001b[39m) \u001b[38;5;28;01mfrom\u001b[39;00m\u001b[38;5;250m \u001b[39m\u001b[34;01mexc\u001b[39;00m\n",
      "\u001b[31mOutputNotFoundError\u001b[39m: Unable to find DVC file with output 'data/raw/work_absenteeism_modified.csv'"
     ]
    }
   ],
   "source": [
    "from dvc.api import get_url, open as dvc_open\n",
    "import pandas as pd\n",
    "\n",
    "PATH = \"data/raw/work_absenteeism_modified.csv\"\n",
    "REPO = \"/work\"\n",
    "\n",
    "print(\"URL DVC:\", get_url(PATH, repo=REPO))  # ahora sí debe imprimir s3://.../<hash>\n",
    "\n",
    "with dvc_open(PATH, repo=REPO, mode=\"rb\") as f:\n",
    "    df = pd.read_csv(f)\n",
    "\n",
    "df.head()\n"
   ]
  },
  {
   "cell_type": "code",
   "execution_count": null,
   "id": "431c29aa-4bd0-4532-89f9-7f1a5dfe160d",
   "metadata": {},
   "outputs": [],
   "source": []
  }
 ],
 "metadata": {
  "kernelspec": {
   "display_name": "Python 3 (ipykernel)",
   "language": "python",
   "name": "python3"
  },
  "language_info": {
   "codemirror_mode": {
    "name": "ipython",
    "version": 3
   },
   "file_extension": ".py",
   "mimetype": "text/x-python",
   "name": "python",
   "nbconvert_exporter": "python",
   "pygments_lexer": "ipython3",
   "version": "3.13.7"
  }
 },
 "nbformat": 4,
 "nbformat_minor": 5
}
